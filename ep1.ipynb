{
 "cells": [
  {
   "cell_type": "code",
   "execution_count": 51,
   "metadata": {},
   "outputs": [],
   "source": [
    "import pandas as pd\n",
    "import numpy\n",
    "import matplotlib.pyplot as plt\n",
    "from sklearn.model_selection import train_test_split\n",
    "from gensim.models import KeyedVectors"
   ]
  },
  {
   "cell_type": "markdown",
   "metadata": {},
   "source": [
    "### Leitura dos dados"
   ]
  },
  {
   "cell_type": "code",
   "execution_count": 9,
   "metadata": {},
   "outputs": [
    {
     "name": "stdout",
     "output_type": "stream",
     "text": [
      "        overall_rating                                        review_text\n",
      "0                    4  Estou contente com a compra entrega rápida o ú...\n",
      "1                    4  Por apenas R$1994.20,eu consegui comprar esse ...\n",
      "2                    4  SUPERA EM AGILIDADE E PRATICIDADE OUTRAS PANEL...\n",
      "3                    4  MEU FILHO AMOU! PARECE DE VERDADE COM TANTOS D...\n",
      "4                    5  A entrega foi no prazo, as americanas estão de...\n",
      "...                ...                                                ...\n",
      "132368               5  Vale muito, estou usando no controle do Xbox e...\n",
      "132369               5  Prático e barato, super indico o produto para ...\n",
      "132370               4  Chegou antes do prazo previsto e corresponde a...\n",
      "132371               1  Material fraco, poderia ser melhor. Ficou deve...\n",
      "132372               1  Comprei esse produto, quando chegou estava com...\n",
      "\n",
      "[132373 rows x 2 columns]\n"
     ]
    }
   ],
   "source": [
    "url = \"https://raw.githubusercontent.com/americanas-tech/b2w-reviews01/4639429ec698d7821fc99a0bc665fa213d9fcd5a/B2W-Reviews01.csv\"\n",
    "df = pd.read_csv(url, usecols=[\"review_text\", \"overall_rating\"])"
   ]
  },
  {
   "cell_type": "markdown",
   "metadata": {},
   "source": [
    "### Filtro"
   ]
  },
  {
   "cell_type": "code",
   "execution_count": 80,
   "metadata": {},
   "outputs": [
    {
     "data": {
      "text/html": [
       "<div>\n",
       "<style scoped>\n",
       "    .dataframe tbody tr th:only-of-type {\n",
       "        vertical-align: middle;\n",
       "    }\n",
       "\n",
       "    .dataframe tbody tr th {\n",
       "        vertical-align: top;\n",
       "    }\n",
       "\n",
       "    .dataframe thead th {\n",
       "        text-align: right;\n",
       "    }\n",
       "</style>\n",
       "<table border=\"1\" class=\"dataframe\">\n",
       "  <thead>\n",
       "    <tr style=\"text-align: right;\">\n",
       "      <th></th>\n",
       "      <th>overall_rating</th>\n",
       "      <th>review_text</th>\n",
       "    </tr>\n",
       "  </thead>\n",
       "  <tbody>\n",
       "    <tr>\n",
       "      <th>0</th>\n",
       "      <td>4</td>\n",
       "      <td>Estou contente com a compra entrega rápida o ú...</td>\n",
       "    </tr>\n",
       "    <tr>\n",
       "      <th>1</th>\n",
       "      <td>4</td>\n",
       "      <td>Por apenas R$1994.20,eu consegui comprar esse ...</td>\n",
       "    </tr>\n",
       "    <tr>\n",
       "      <th>2</th>\n",
       "      <td>4</td>\n",
       "      <td>SUPERA EM AGILIDADE E PRATICIDADE OUTRAS PANEL...</td>\n",
       "    </tr>\n",
       "    <tr>\n",
       "      <th>3</th>\n",
       "      <td>4</td>\n",
       "      <td>MEU FILHO AMOU! PARECE DE VERDADE COM TANTOS D...</td>\n",
       "    </tr>\n",
       "    <tr>\n",
       "      <th>4</th>\n",
       "      <td>5</td>\n",
       "      <td>A entrega foi no prazo, as americanas estão de...</td>\n",
       "    </tr>\n",
       "  </tbody>\n",
       "</table>\n",
       "</div>"
      ],
      "text/plain": [
       "   overall_rating                                        review_text\n",
       "0               4  Estou contente com a compra entrega rápida o ú...\n",
       "1               4  Por apenas R$1994.20,eu consegui comprar esse ...\n",
       "2               4  SUPERA EM AGILIDADE E PRATICIDADE OUTRAS PANEL...\n",
       "3               4  MEU FILHO AMOU! PARECE DE VERDADE COM TANTOS D...\n",
       "4               5  A entrega foi no prazo, as americanas estão de..."
      ]
     },
     "execution_count": 80,
     "metadata": {},
     "output_type": "execute_result"
    }
   ],
   "source": [
    "df_filtrado = df.loc[df['overall_rating'] != 0]\n",
    "df_filtrado = df_filtrado.loc[df_filtrado[\"review_text\"].notnull()]\n",
    "df_filtrado.head()"
   ]
  },
  {
   "cell_type": "markdown",
   "metadata": {},
   "source": [
    "### Partilha"
   ]
  },
  {
   "cell_type": "code",
   "execution_count": 81,
   "metadata": {},
   "outputs": [],
   "source": [
    "SEED = 1398\n",
    "train, test = train_test_split(df_filtrado, test_size=0.25, random_state=SEED)\n",
    "train, val = train_test_split(train, test_size=0.13, random_state=SEED)"
   ]
  },
  {
   "cell_type": "markdown",
   "metadata": {},
   "source": [
    "### Codifica"
   ]
  },
  {
   "cell_type": "code",
   "execution_count": 26,
   "metadata": {},
   "outputs": [
    {
     "name": "stdout",
     "output_type": "stream",
     "text": [
      "  % Total    % Received % Xferd  Average Speed   Time    Time     Time  Current\n",
      "                                 Dload  Upload   Total   Spent    Left  Speed\n",
      "  5 92.0M    5 4856k    0     0   224k      0  0:06:59  0:00:21  0:06:38  435k0:03 --:--:--     0    0  0:09:04  0:00:17  0:08:47  391k^C\n"
     ]
    }
   ],
   "source": [
    "# Embedding\n",
    "!curl  https://raw.githubusercontent.com/alan-barzilay/NLPortugues/master/Semana%2004/data/word2vec_200k.txt --output 'word2vec_200k.txt'"
   ]
  },
  {
   "cell_type": "code",
   "execution_count": 28,
   "metadata": {},
   "outputs": [],
   "source": [
    "model = KeyedVectors.load_word2vec_format(\"Lista4_Word2Vec/word2vec_200k.txt\")"
   ]
  },
  {
   "cell_type": "code",
   "execution_count": 103,
   "metadata": {},
   "outputs": [],
   "source": [
    "# Hiperparâmetros\n",
    "\n",
    "tanmax = 100\n",
    "batch_size = 2^10\n",
    "\n",
    "# Truncagem\n",
    "# train[\"n_words\"] = [len(linha.split()) for linha in train[\"review_text\"]]"
   ]
  },
  {
   "cell_type": "code",
   "execution_count": null,
   "metadata": {},
   "outputs": [],
   "source": [
    "\n",
    "\n"
   ]
  }
 ],
 "metadata": {
  "kernelspec": {
   "display_name": "Python 3",
   "language": "python",
   "name": "python3"
  },
  "language_info": {
   "codemirror_mode": {
    "name": "ipython",
    "version": 3
   },
   "file_extension": ".py",
   "mimetype": "text/x-python",
   "name": "python",
   "nbconvert_exporter": "python",
   "pygments_lexer": "ipython3",
   "version": "3.11.5"
  },
  "orig_nbformat": 4
 },
 "nbformat": 4,
 "nbformat_minor": 2
}
