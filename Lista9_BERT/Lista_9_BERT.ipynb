{
  "cells": [
    {
      "cell_type": "markdown",
      "metadata": {
        "id": "QiExJR5C6xlF"
      },
      "source": [
        "# Lista 9 - BERT\n",
        "\n",
        "Nessa lista exploraremos como usar o HuggingFace para aplicar modelos baseados em transformers. O HuggingFace é (também) um conjunto de bibliotecas para Python que abstrai o treinamento, ajuste fino e utilização de modelos baseados em transformers, como o BERT. Como complemento aos slides das aulas, use o próprio [curso/livro texto do HuggingFace](https://huggingface.co/learn/nlp-course/chapter1/1), disponível gratuitamente, e a documentação das funções, para a resolução desta lista.\n",
        "\n",
        "Vamos começar instalando as bibliotecas do ecosistema da HuggingFace que serão necessários e importando os itens necessários (Na dúvida sobre o que usar, dê uma olhada no que está sendo importado)."
      ]
    },
    {
      "cell_type": "code",
      "execution_count": 7,
      "metadata": {
        "colab": {
          "base_uri": "https://localhost:8080/"
        },
        "id": "wRPjobAT3_Ok",
        "outputId": "840ae620-e84c-4767-f5c9-c5ec00a6bda6"
      },
      "outputs": [
        {
          "name": "stdout",
          "output_type": "stream",
          "text": [
            "zsh:1: no matches found: transformers[torch]\n"
          ]
        },
        {
          "name": "stderr",
          "output_type": "stream",
          "text": [
            "huggingface/tokenizers: The current process just got forked, after parallelism has already been used. Disabling parallelism to avoid deadlocks...\n",
            "To disable this warning, you can either:\n",
            "\t- Avoid using `tokenizers` before the fork if possible\n",
            "\t- Explicitly set the environment variable TOKENIZERS_PARALLELISM=(true | false)\n",
            "huggingface/tokenizers: The current process just got forked, after parallelism has already been used. Disabling parallelism to avoid deadlocks...\n",
            "To disable this warning, you can either:\n",
            "\t- Avoid using `tokenizers` before the fork if possible\n",
            "\t- Explicitly set the environment variable TOKENIZERS_PARALLELISM=(true | false)\n"
          ]
        },
        {
          "name": "stdout",
          "output_type": "stream",
          "text": [
            "Requirement already satisfied: accelerate in /opt/homebrew/lib/python3.11/site-packages (0.24.1)\n",
            "Requirement already satisfied: numpy>=1.17 in /opt/homebrew/lib/python3.11/site-packages (from accelerate) (1.24.3)\n",
            "Requirement already satisfied: packaging>=20.0 in /opt/homebrew/lib/python3.11/site-packages (from accelerate) (23.2)\n",
            "Requirement already satisfied: psutil in /opt/homebrew/lib/python3.11/site-packages (from accelerate) (5.9.5)\n",
            "Requirement already satisfied: pyyaml in /opt/homebrew/lib/python3.11/site-packages (from accelerate) (6.0.1)\n",
            "Requirement already satisfied: torch>=1.10.0 in /opt/homebrew/lib/python3.11/site-packages (from accelerate) (2.1.0)\n",
            "Requirement already satisfied: huggingface-hub in /opt/homebrew/lib/python3.11/site-packages (from accelerate) (0.17.3)\n",
            "Requirement already satisfied: filelock in /opt/homebrew/lib/python3.11/site-packages (from torch>=1.10.0->accelerate) (3.13.1)\n",
            "Requirement already satisfied: typing-extensions in /opt/homebrew/lib/python3.11/site-packages (from torch>=1.10.0->accelerate) (4.5.0)\n",
            "Requirement already satisfied: sympy in /opt/homebrew/lib/python3.11/site-packages (from torch>=1.10.0->accelerate) (1.12)\n",
            "Requirement already satisfied: networkx in /opt/homebrew/lib/python3.11/site-packages (from torch>=1.10.0->accelerate) (3.2.1)\n",
            "Requirement already satisfied: jinja2 in /opt/homebrew/lib/python3.11/site-packages (from torch>=1.10.0->accelerate) (3.1.2)\n",
            "Requirement already satisfied: fsspec in /opt/homebrew/lib/python3.11/site-packages (from torch>=1.10.0->accelerate) (2023.6.0)\n",
            "Requirement already satisfied: requests in /opt/homebrew/lib/python3.11/site-packages (from huggingface-hub->accelerate) (2.31.0)\n",
            "Requirement already satisfied: tqdm>=4.42.1 in /opt/homebrew/lib/python3.11/site-packages (from huggingface-hub->accelerate) (4.66.1)\n",
            "Requirement already satisfied: MarkupSafe>=2.0 in /opt/homebrew/lib/python3.11/site-packages (from jinja2->torch>=1.10.0->accelerate) (2.1.3)\n",
            "Requirement already satisfied: charset-normalizer<4,>=2 in /opt/homebrew/lib/python3.11/site-packages (from requests->huggingface-hub->accelerate) (2.0.12)\n",
            "Requirement already satisfied: idna<4,>=2.5 in /opt/homebrew/lib/python3.11/site-packages (from requests->huggingface-hub->accelerate) (3.4)\n",
            "Requirement already satisfied: urllib3<3,>=1.21.1 in /opt/homebrew/lib/python3.11/site-packages (from requests->huggingface-hub->accelerate) (1.26.16)\n",
            "Requirement already satisfied: certifi>=2017.4.17 in /opt/homebrew/lib/python3.11/site-packages (from requests->huggingface-hub->accelerate) (2023.5.7)\n",
            "Requirement already satisfied: mpmath>=0.19 in /opt/homebrew/lib/python3.11/site-packages (from sympy->torch>=1.10.0->accelerate) (1.3.0)\n"
          ]
        }
      ],
      "source": [
        "!pip install transformers[torch] tokenizers datasets\n",
        "!pip install accelerate -U"
      ]
    },
    {
      "cell_type": "code",
      "execution_count": 5,
      "metadata": {
        "id": "Nnhj7J1v8AK_"
      },
      "outputs": [],
      "source": [
        "from transformers import AutoTokenizer, AutoModelForSequenceClassification, AutoConfig, pipeline, DataCollatorWithPadding, TrainingArguments, Trainer\n",
        "from datasets import load_dataset, load_metric\n",
        "import torch\n",
        "import numpy as np"
      ]
    },
    {
      "cell_type": "markdown",
      "metadata": {
        "id": "7JoGm4Gm8GEG"
      },
      "source": [
        "# Questão 1 - Usando um modelo ajustado\n",
        "Nessa questão, vamos explorar como utilizar um modelo BERT que já foi ajustado para uma tarefa específica, rodando-o num input ou conjunto de inputs de interesse.\n",
        "Usaremos o modelo **BERT Go Emotion Base** cujo identificador no HuggingFace é ``bhadresh-savani/bert-base-go-emotion``. Esse é um modelo BERT ajustado para o problema de classificar um texto em inglês segundo as emoções que ele expressa.\n",
        "Complete a célula abaixo de forma a importar e usar o modelo em questão para a classificação do texto armazenado na variável ``text``, usando a estrutura ``pipeline``."
      ]
    },
    {
      "cell_type": "code",
      "execution_count": 11,
      "metadata": {
        "colab": {
          "base_uri": "https://localhost:8080/"
        },
        "id": "j0XTrskx4QJ_",
        "outputId": "d6729673-5eaa-4151-e907-ce8e9380a60a"
      },
      "outputs": [
        {
          "data": {
            "text/plain": [
              "[[{'label': 'neutral', 'score': 0.6134440898895264},\n",
              "  {'label': 'realization', 'score': 0.09147773683071136},\n",
              "  {'label': 'approval', 'score': 0.06752301007509232},\n",
              "  {'label': 'annoyance', 'score': 0.03160139173269272},\n",
              "  {'label': 'disappointment', 'score': 0.022592734545469284},\n",
              "  {'label': 'optimism', 'score': 0.02241162583231926},\n",
              "  {'label': 'surprise', 'score': 0.02102230302989483},\n",
              "  {'label': 'amusement', 'score': 0.01915157213807106},\n",
              "  {'label': 'desire', 'score': 0.011300671845674515},\n",
              "  {'label': 'admiration', 'score': 0.011197982355952263},\n",
              "  {'label': 'disapproval', 'score': 0.010413268581032753},\n",
              "  {'label': 'sadness', 'score': 0.008721446618437767},\n",
              "  {'label': 'excitement', 'score': 0.007849073968827724},\n",
              "  {'label': 'disgust', 'score': 0.007495712023228407},\n",
              "  {'label': 'embarrassment', 'score': 0.0074385362677276134},\n",
              "  {'label': 'fear', 'score': 0.006812149193137884},\n",
              "  {'label': 'joy', 'score': 0.006175273098051548},\n",
              "  {'label': 'nervousness', 'score': 0.005533046089112759},\n",
              "  {'label': 'anger', 'score': 0.005330855492502451},\n",
              "  {'label': 'curiosity', 'score': 0.004358958452939987},\n",
              "  {'label': 'confusion', 'score': 0.0037633751053363085},\n",
              "  {'label': 'pride', 'score': 0.0034683924168348312},\n",
              "  {'label': 'relief', 'score': 0.0025434065610170364},\n",
              "  {'label': 'caring', 'score': 0.002371713053435087},\n",
              "  {'label': 'remorse', 'score': 0.0020061067771166563},\n",
              "  {'label': 'love', 'score': 0.0014261953765526414},\n",
              "  {'label': 'grief', 'score': 0.0013151501771062613},\n",
              "  {'label': 'gratitude', 'score': 0.0012542090844362974}]]"
            ]
          },
          "execution_count": 11,
          "metadata": {},
          "output_type": "execute_result"
        }
      ],
      "source": [
        "text=\"Then plainly know my heart's dear love is set on the fair daughter of rich Capulet: as mine on hers, so hers is set on mine;\"\n",
        "# Instancie o tokenizador do modelo\n",
        "tokenizer = AutoTokenizer.from_pretrained(\"bert-base-cased\")\n",
        "\n",
        "# Instancie o modelo\n",
        "model = AutoModelForSequenceClassification.from_pretrained(\"bhadresh-savani/bert-base-go-emotion\")\n",
        "\n",
        "# Instancie o pipeline de uso a partir do modelo e do tokenizador\n",
        "# Obs: instancie de forma a retornar o score previsto para todas as classes e não apenas\n",
        "# a classe mais provável\n",
        "recognizer = pipeline(\"text-classification\", model=model, tokenizer=tokenizer, top_k=None)\n",
        "\n",
        "#Aplique o modelo ao texto\n",
        "recognizer(text)\n",
        "\n"
      ]
    },
    {
      "cell_type": "markdown",
      "metadata": {
        "id": "xMUAOBV0_LgR"
      },
      "source": [
        "# Questão 2 - Ajustando o BERTimbau para uma tarefa de classificação\n",
        "O [BERTimbau](https://huggingface.co/neuralmind/bert-base-portuguese-cased) é o modelo de atenção pioneiro para o Português. Ele é uma versão do BERT pré-treinado com dados em português e está disponível abertamente no HUggingFace em dois tamanhos. Nesse exercício vamos fazer o ajuste-fino no BERTimbau Base (já pré-treinado) para a tarefa de Inferência em Linguagem Natural. Essa é a tarefa de receber dois textos, uma Premissa e uma Hipótese e classificar qual é a relação lógica entre premissa e hipótese. Usaremos o dataset ASSIN2 que modela esse como um problema de classificação em duas classes: Entailment (Existe acarretamento lógico) e None (Não existe acarretamento lógico).\n",
        "\n",
        "Complete o código a seguir nos locais indicados, de forma a ajustar o BERTimbau para a tarefa citada. Na dúvida, consulte a documentação das referidas classes e o livro-texto do HuggingFace."
      ]
    },
    {
      "cell_type": "code",
      "execution_count": 8,
      "metadata": {},
      "outputs": [
        {
          "data": {
            "application/vnd.jupyter.widget-view+json": {
              "model_id": "02afe4987f7249eb9ef439ae7c0d3d7d",
              "version_major": 2,
              "version_minor": 0
            },
            "text/plain": [
              "Map:   0%|          | 0/500 [00:00<?, ? examples/s]"
            ]
          },
          "metadata": {},
          "output_type": "display_data"
        },
        {
          "data": {
            "text/plain": [
              "DatasetDict({\n",
              "    train: Dataset({\n",
              "        features: ['sentence_pair_id', 'premise', 'hypothesis', 'relatedness_score', 'label'],\n",
              "        num_rows: 6500\n",
              "    })\n",
              "    test: Dataset({\n",
              "        features: ['sentence_pair_id', 'premise', 'hypothesis', 'relatedness_score', 'label'],\n",
              "        num_rows: 2448\n",
              "    })\n",
              "    validation: Dataset({\n",
              "        features: ['sentence_pair_id', 'premise', 'hypothesis', 'relatedness_score', 'label'],\n",
              "        num_rows: 500\n",
              "    })\n",
              "})"
            ]
          },
          "execution_count": 8,
          "metadata": {},
          "output_type": "execute_result"
        }
      ],
      "source": [
        "dataset = load_dataset(\"assin2\")\n",
        "\n",
        "dataset = dataset.rename_columns({\"entailment_judgment\": \"label\"})\n",
        "\n",
        "tokenizer = AutoTokenizer.from_pretrained(\n",
        "    \"neuralmind/bert-base-portuguese-cased\", do_lower_case=False, model_max_length=512\n",
        ")\n",
        "\n",
        "\n",
        "# TOKENIZAÇÃO:\n",
        "# Crio uma função de tokenização dessa que processe cada dataset dessa forma permite que usemos a função .map() para aplicá-la no próprio dataset.\n",
        "# O resultado de uma aplicação com map é um objeto do tipo dataset então continuaremos dispondo das comodidades dessa estrutura de dados,\n",
        "# o que não aconteceríamos se aplicássemos o tokenizador diretamente ao dataset, caso no qual o resultado retornado seria um dicionário comum.\n",
        "def tokenize_function(examples):\n",
        "    return tokenizer(\n",
        "        [z for z in zip(examples[\"premise\"], examples[\"hypothesis\"])], truncation=True\n",
        "    )\n",
        "\n",
        "\n",
        "tokenized_datasets = dataset.map(tokenize_function, batched=True)\n",
        "\n",
        "dataset"
      ]
    },
    {
      "cell_type": "code",
      "execution_count": 9,
      "metadata": {},
      "outputs": [
        {
          "data": {
            "text/plain": [
              "DatasetDict({\n",
              "    train: Dataset({\n",
              "        features: ['sentence_pair_id', 'premise', 'hypothesis', 'relatedness_score', 'label', 'input_ids', 'token_type_ids', 'attention_mask'],\n",
              "        num_rows: 6500\n",
              "    })\n",
              "    test: Dataset({\n",
              "        features: ['sentence_pair_id', 'premise', 'hypothesis', 'relatedness_score', 'label', 'input_ids', 'token_type_ids', 'attention_mask'],\n",
              "        num_rows: 2448\n",
              "    })\n",
              "    validation: Dataset({\n",
              "        features: ['sentence_pair_id', 'premise', 'hypothesis', 'relatedness_score', 'label', 'input_ids', 'token_type_ids', 'attention_mask'],\n",
              "        num_rows: 500\n",
              "    })\n",
              "})"
            ]
          },
          "execution_count": 9,
          "metadata": {},
          "output_type": "execute_result"
        }
      ],
      "source": [
        "tokenized_datasets"
      ]
    },
    {
      "cell_type": "code",
      "execution_count": 10,
      "metadata": {
        "colab": {
          "base_uri": "https://localhost:8080/",
          "height": 226,
          "referenced_widgets": [
            "77d219b60c7a4f2089f4172d3a3ab8f7",
            "b0d7258631904297a9a69eec62b4fdfe",
            "451b6e3f0c3b451fb6e64cf344756885",
            "677e169e0adc482da8e7845f327f3b54",
            "b666c2142ba5451fa5b961ef067b6280",
            "701b3dc3a165477f873e84d07e25c58b",
            "03b273060d26414cadc1338fd79d9cd5",
            "24734e8b9bad4374944c9a9e8eae1f10",
            "1aeb5a0c29da46d08325b239581f34fb",
            "a628192b2af640e3a43694122eb28d9c",
            "0e1510b7caf14752bbed3c827e90f57e"
          ]
        },
        "id": "bg232mJaAsMJ",
        "outputId": "76bdf7a4-98e6-40b6-cbef-ac2900e001bb"
      },
      "outputs": [
        {
          "name": "stderr",
          "output_type": "stream",
          "text": [
            "Some weights of BertForSequenceClassification were not initialized from the model checkpoint at neuralmind/bert-base-portuguese-cased and are newly initialized: ['classifier.bias', 'classifier.weight']\n",
            "You should probably TRAIN this model on a down-stream task to be able to use it for predictions and inference.\n"
          ]
        },
        {
          "data": {
            "application/vnd.jupyter.widget-view+json": {
              "model_id": "bb3c9f85167a4c0c8d7460725d29008b",
              "version_major": 2,
              "version_minor": 0
            },
            "text/plain": [
              "  0%|          | 0/125 [00:00<?, ?it/s]"
            ]
          },
          "metadata": {},
          "output_type": "display_data"
        },
        {
          "name": "stderr",
          "output_type": "stream",
          "text": [
            "You're using a BertTokenizerFast tokenizer. Please note that with a fast tokenizer, using the `__call__` method is faster than using a method to encode the text followed by a call to the `pad` method to get a padded encoding.\n"
          ]
        },
        {
          "data": {
            "application/vnd.jupyter.widget-view+json": {
              "model_id": "c78844e96b6c441d921f0505162eaaac",
              "version_major": 2,
              "version_minor": 0
            },
            "text/plain": [
              "  0%|          | 0/63 [00:00<?, ?it/s]"
            ]
          },
          "metadata": {},
          "output_type": "display_data"
        },
        {
          "name": "stdout",
          "output_type": "stream",
          "text": [
            "{'eval_loss': 0.43933045864105225, 'eval_accuracy': 0.81, 'eval_runtime': 3.8942, 'eval_samples_per_second': 128.397, 'eval_steps_per_second': 16.178, 'epoch': 1.0}\n",
            "{'train_runtime': 54.7304, 'train_samples_per_second': 18.271, 'train_steps_per_second': 2.284, 'train_loss': 0.58202099609375, 'epoch': 1.0}\n"
          ]
        }
      ],
      "source": [
        "\n",
        "torch.manual_seed(1562517)\n",
        "\n",
        "#CARREGAMENTO E PREPARAÇÃO DO DATASET\n",
        "\n",
        "#Carregue o dataset \"assin2\"\n",
        "dataset = load_dataset(\"assin2\")\n",
        "\n",
        "dataset=dataset.rename_columns({'entailment_judgment':'label'})\n",
        "\n",
        "\n",
        "#CARREGAMENTO DO TOKENIZADOR\n",
        "#Carregue o tokenizador do modelo (use  model_max_length=512):\n",
        "tokenizer = AutoTokenizer.from_pretrained('neuralmind/bert-base-portuguese-cased', do_lower_case=False, model_max_length=512)\n",
        "\n",
        "#TOKENIZAÇÃO:\n",
        "# Crio uma função de tokenização dessa que processe cada dataset dessa forma permite que usemos a função .map() para aplicá-la no próprio dataset.\n",
        "# O resultado de uma aplicação com map é um objeto do tipo dataset então continuaremos dispondo das comodidades dessa estrutura de dados,\n",
        "# o que não aconteceríamos se aplicássemos o tokenizador diretamente ao dataset, caso no qual o resultado retornado seria um dicionário comum.\n",
        "def tokenize_function(examples):\n",
        "  return tokenizer([z for z in zip(examples[\"premise\"], examples[\"hypothesis\"])], truncation=True)\n",
        "\n",
        "tokenized_datasets = dataset.map(tokenize_function, batched=True)\n",
        "\n",
        "#\"COLETOR\" DE DADOS:\n",
        "# Instancie um DataCollatorWithPadding a partir do tokenizador importado\n",
        "data_collator = DataCollatorWithPadding(tokenizer=tokenizer)\n",
        "\n",
        "#PARTICIONAMENTO E AMOSTRAGEM DO DATASET:\n",
        "train_dataset = tokenized_datasets[\"train\"].shuffle(seed=42).select(range(1000))\n",
        "eval_dataset = tokenized_datasets[\"validation\"].shuffle(seed=42)\n",
        "test_set = tokenized_datasets[\"test\"].shuffle(seed=42)\n",
        "\n",
        "# CONFIGURAÇÕES DO MODELO:\n",
        "label2id = {'NONE': 0, 'ENTAILMENT':1}\n",
        "id2label = {0: 'NONE', 1: 'ENTAILMENT'}\n",
        "config= AutoConfig.from_pretrained(\"neuralmind/bert-base-portuguese-cased\", label2id=label2id, id2label=id2label, num_labels=2, seed=1)\n",
        "\n",
        "# CARREGAMENTO DO MODELO:\n",
        "# Carregue o modelo BERTimbau, usando as configurações definidas na linha anterior\n",
        "model = AutoModelForSequenceClassification.from_pretrained('neuralmind/bert-base-portuguese-cased')\n",
        "\n",
        "#ARGUMENTOS DE TREINAMENTO:\n",
        "# Usando a classe TrainingArgs, crie um objeto que estabeleça os seguintes argumentos de treinamento?\n",
        "# 1 época de treinamento\n",
        "# 1 Validação a cada época\n",
        "# 1 salvamento do modelo intermediário por época\n",
        "\n",
        "training_args = TrainingArguments(\n",
        "    output_dir=\"model_dir\",\n",
        "    learning_rate=2e-5,\n",
        "    num_train_epochs=1,\n",
        "    weight_decay=0.01,\n",
        "    evaluation_strategy=\"epoch\",\n",
        "    save_strategy=\"epoch\",\n",
        "    load_best_model_at_end=True,\n",
        "    push_to_hub=True,\n",
        ")\n",
        "\n",
        "\n",
        "# MÉTRICA DE AVALIAÇÃO:\n",
        "\n",
        "metric = load_metric(\"accuracy\")\n",
        "\n",
        "def compute_metrics(eval_pred):\n",
        "    logits, labels = eval_pred\n",
        "    predictions = np.argmax(logits, axis=-1)\n",
        "    return metric.compute(predictions=predictions, references=labels)\n",
        "\n",
        "# TREINADOR (Abstrai o loop de treinamento):\n",
        "# Crie um objeto Trainer para treinar o modelo carregado, usando os argumentos\n",
        "# de treinamento estabelecidos, os conjuntos de treinamento e validação produzidos\n",
        "# a função compute_metrics para computar a métrica e o coletor de dados previamente instanciado\n",
        "\n",
        "trainer = Trainer(\n",
        "    model=model,\n",
        "    args=training_args,\n",
        "    train_dataset=train_dataset,\n",
        "    eval_dataset=eval_dataset,\n",
        "    tokenizer=tokenizer,\n",
        "    data_collator=data_collator,\n",
        "    compute_metrics=compute_metrics,\n",
        ")\n",
        "\n",
        "# TREINAMENTO E SALVAMENTO\n",
        "trained=trainer.train()\n",
        "trainer.save_model(\"Bertinho\")"
      ]
    },
    {
      "cell_type": "markdown",
      "metadata": {
        "id": "vaelLh947VuM"
      },
      "source": [
        "# Questão 3\n",
        "Ao carregar o modelo, na questão anterior, você deve ter recebido um aviso que começa com *Some weights of BertForSequenceClassification were not initialized...*\n",
        "Explique porque carregar o modelo gera esse aviso e porque ele é esperado.\n",
        "\n"
      ]
    },
    {
      "cell_type": "markdown",
      "metadata": {
        "id": "kWPBI6wN7-0R"
      },
      "source": [
        "O aviso nos lembra que os pesos devem ser estimados antes de usar o modelo para inferências, e é esperado pois os pesos não são inicializados ao carregar o modelo. Os pesos são calculados posteriormente no treino `Trainer`, com os argumentos definidos em `training_args`. "
      ]
    }
  ],
  "metadata": {
    "accelerator": "GPU",
    "colab": {
      "gpuType": "T4",
      "provenance": []
    },
    "kernelspec": {
      "display_name": "Python 3",
      "name": "python3"
    },
    "language_info": {
      "name": "python"
    },
    "widgets": {
      "application/vnd.jupyter.widget-state+json": {
        "03b273060d26414cadc1338fd79d9cd5": {
          "model_module": "@jupyter-widgets/controls",
          "model_module_version": "1.5.0",
          "model_name": "DescriptionStyleModel",
          "state": {
            "_model_module": "@jupyter-widgets/controls",
            "_model_module_version": "1.5.0",
            "_model_name": "DescriptionStyleModel",
            "_view_count": null,
            "_view_module": "@jupyter-widgets/base",
            "_view_module_version": "1.2.0",
            "_view_name": "StyleView",
            "description_width": ""
          }
        },
        "070f459916a24a7a8c51975a6c8bcc4a": {
          "model_module": "@jupyter-widgets/controls",
          "model_module_version": "1.5.0",
          "model_name": "DescriptionStyleModel",
          "state": {
            "_model_module": "@jupyter-widgets/controls",
            "_model_module_version": "1.5.0",
            "_model_name": "DescriptionStyleModel",
            "_view_count": null,
            "_view_module": "@jupyter-widgets/base",
            "_view_module_version": "1.2.0",
            "_view_name": "StyleView",
            "description_width": ""
          }
        },
        "0e1510b7caf14752bbed3c827e90f57e": {
          "model_module": "@jupyter-widgets/controls",
          "model_module_version": "1.5.0",
          "model_name": "DescriptionStyleModel",
          "state": {
            "_model_module": "@jupyter-widgets/controls",
            "_model_module_version": "1.5.0",
            "_model_name": "DescriptionStyleModel",
            "_view_count": null,
            "_view_module": "@jupyter-widgets/base",
            "_view_module_version": "1.2.0",
            "_view_name": "StyleView",
            "description_width": ""
          }
        },
        "1aeb5a0c29da46d08325b239581f34fb": {
          "model_module": "@jupyter-widgets/controls",
          "model_module_version": "1.5.0",
          "model_name": "ProgressStyleModel",
          "state": {
            "_model_module": "@jupyter-widgets/controls",
            "_model_module_version": "1.5.0",
            "_model_name": "ProgressStyleModel",
            "_view_count": null,
            "_view_module": "@jupyter-widgets/base",
            "_view_module_version": "1.2.0",
            "_view_name": "StyleView",
            "bar_color": null,
            "description_width": ""
          }
        },
        "1e0d289b01134804a2ff3d47140a06b7": {
          "model_module": "@jupyter-widgets/controls",
          "model_module_version": "1.5.0",
          "model_name": "HBoxModel",
          "state": {
            "_dom_classes": [],
            "_model_module": "@jupyter-widgets/controls",
            "_model_module_version": "1.5.0",
            "_model_name": "HBoxModel",
            "_view_count": null,
            "_view_module": "@jupyter-widgets/controls",
            "_view_module_version": "1.5.0",
            "_view_name": "HBoxView",
            "box_style": "",
            "children": [
              "IPY_MODEL_df3282dd7cda4550ae63c72817b6ec53",
              "IPY_MODEL_e19296377084408a8b05ab0b748354f7",
              "IPY_MODEL_8517c84113ea44f2ac93b0d64bbcd238"
            ],
            "layout": "IPY_MODEL_5fc19be399d541ad804ea3fb7d9cf894"
          }
        },
        "24734e8b9bad4374944c9a9e8eae1f10": {
          "model_module": "@jupyter-widgets/base",
          "model_module_version": "1.2.0",
          "model_name": "LayoutModel",
          "state": {
            "_model_module": "@jupyter-widgets/base",
            "_model_module_version": "1.2.0",
            "_model_name": "LayoutModel",
            "_view_count": null,
            "_view_module": "@jupyter-widgets/base",
            "_view_module_version": "1.2.0",
            "_view_name": "LayoutView",
            "align_content": null,
            "align_items": null,
            "align_self": null,
            "border": null,
            "bottom": null,
            "display": null,
            "flex": null,
            "flex_flow": null,
            "grid_area": null,
            "grid_auto_columns": null,
            "grid_auto_flow": null,
            "grid_auto_rows": null,
            "grid_column": null,
            "grid_gap": null,
            "grid_row": null,
            "grid_template_areas": null,
            "grid_template_columns": null,
            "grid_template_rows": null,
            "height": null,
            "justify_content": null,
            "justify_items": null,
            "left": null,
            "margin": null,
            "max_height": null,
            "max_width": null,
            "min_height": null,
            "min_width": null,
            "object_fit": null,
            "object_position": null,
            "order": null,
            "overflow": null,
            "overflow_x": null,
            "overflow_y": null,
            "padding": null,
            "right": null,
            "top": null,
            "visibility": null,
            "width": null
          }
        },
        "2941c90434ef403eb8af1a82395bd613": {
          "model_module": "@jupyter-widgets/base",
          "model_module_version": "1.2.0",
          "model_name": "LayoutModel",
          "state": {
            "_model_module": "@jupyter-widgets/base",
            "_model_module_version": "1.2.0",
            "_model_name": "LayoutModel",
            "_view_count": null,
            "_view_module": "@jupyter-widgets/base",
            "_view_module_version": "1.2.0",
            "_view_name": "LayoutView",
            "align_content": null,
            "align_items": null,
            "align_self": null,
            "border": null,
            "bottom": null,
            "display": null,
            "flex": null,
            "flex_flow": null,
            "grid_area": null,
            "grid_auto_columns": null,
            "grid_auto_flow": null,
            "grid_auto_rows": null,
            "grid_column": null,
            "grid_gap": null,
            "grid_row": null,
            "grid_template_areas": null,
            "grid_template_columns": null,
            "grid_template_rows": null,
            "height": null,
            "justify_content": null,
            "justify_items": null,
            "left": null,
            "margin": null,
            "max_height": null,
            "max_width": null,
            "min_height": null,
            "min_width": null,
            "object_fit": null,
            "object_position": null,
            "order": null,
            "overflow": null,
            "overflow_x": null,
            "overflow_y": null,
            "padding": null,
            "right": null,
            "top": null,
            "visibility": null,
            "width": null
          }
        },
        "29c33c9a90cf4011b29f181dde378d08": {
          "model_module": "@jupyter-widgets/base",
          "model_module_version": "1.2.0",
          "model_name": "LayoutModel",
          "state": {
            "_model_module": "@jupyter-widgets/base",
            "_model_module_version": "1.2.0",
            "_model_name": "LayoutModel",
            "_view_count": null,
            "_view_module": "@jupyter-widgets/base",
            "_view_module_version": "1.2.0",
            "_view_name": "LayoutView",
            "align_content": null,
            "align_items": null,
            "align_self": null,
            "border": null,
            "bottom": null,
            "display": null,
            "flex": null,
            "flex_flow": null,
            "grid_area": null,
            "grid_auto_columns": null,
            "grid_auto_flow": null,
            "grid_auto_rows": null,
            "grid_column": null,
            "grid_gap": null,
            "grid_row": null,
            "grid_template_areas": null,
            "grid_template_columns": null,
            "grid_template_rows": null,
            "height": null,
            "justify_content": null,
            "justify_items": null,
            "left": null,
            "margin": null,
            "max_height": null,
            "max_width": null,
            "min_height": null,
            "min_width": null,
            "object_fit": null,
            "object_position": null,
            "order": null,
            "overflow": null,
            "overflow_x": null,
            "overflow_y": null,
            "padding": null,
            "right": null,
            "top": null,
            "visibility": null,
            "width": null
          }
        },
        "451b6e3f0c3b451fb6e64cf344756885": {
          "model_module": "@jupyter-widgets/controls",
          "model_module_version": "1.5.0",
          "model_name": "FloatProgressModel",
          "state": {
            "_dom_classes": [],
            "_model_module": "@jupyter-widgets/controls",
            "_model_module_version": "1.5.0",
            "_model_name": "FloatProgressModel",
            "_view_count": null,
            "_view_module": "@jupyter-widgets/controls",
            "_view_module_version": "1.5.0",
            "_view_name": "ProgressView",
            "bar_style": "success",
            "description": "",
            "description_tooltip": null,
            "layout": "IPY_MODEL_24734e8b9bad4374944c9a9e8eae1f10",
            "max": 2448,
            "min": 0,
            "orientation": "horizontal",
            "style": "IPY_MODEL_1aeb5a0c29da46d08325b239581f34fb",
            "value": 2448
          }
        },
        "47883bb474ec49f897c40f585b38fc21": {
          "model_module": "@jupyter-widgets/controls",
          "model_module_version": "1.5.0",
          "model_name": "DescriptionStyleModel",
          "state": {
            "_model_module": "@jupyter-widgets/controls",
            "_model_module_version": "1.5.0",
            "_model_name": "DescriptionStyleModel",
            "_view_count": null,
            "_view_module": "@jupyter-widgets/base",
            "_view_module_version": "1.2.0",
            "_view_name": "StyleView",
            "description_width": ""
          }
        },
        "4adb9ee0f7ed4c908742970063ffdcfa": {
          "model_module": "@jupyter-widgets/base",
          "model_module_version": "1.2.0",
          "model_name": "LayoutModel",
          "state": {
            "_model_module": "@jupyter-widgets/base",
            "_model_module_version": "1.2.0",
            "_model_name": "LayoutModel",
            "_view_count": null,
            "_view_module": "@jupyter-widgets/base",
            "_view_module_version": "1.2.0",
            "_view_name": "LayoutView",
            "align_content": null,
            "align_items": null,
            "align_self": null,
            "border": null,
            "bottom": null,
            "display": null,
            "flex": null,
            "flex_flow": null,
            "grid_area": null,
            "grid_auto_columns": null,
            "grid_auto_flow": null,
            "grid_auto_rows": null,
            "grid_column": null,
            "grid_gap": null,
            "grid_row": null,
            "grid_template_areas": null,
            "grid_template_columns": null,
            "grid_template_rows": null,
            "height": null,
            "justify_content": null,
            "justify_items": null,
            "left": null,
            "margin": null,
            "max_height": null,
            "max_width": null,
            "min_height": null,
            "min_width": null,
            "object_fit": null,
            "object_position": null,
            "order": null,
            "overflow": null,
            "overflow_x": null,
            "overflow_y": null,
            "padding": null,
            "right": null,
            "top": null,
            "visibility": null,
            "width": null
          }
        },
        "5a97b9db41b14ecea3854ea3038ad5d8": {
          "model_module": "@jupyter-widgets/controls",
          "model_module_version": "1.5.0",
          "model_name": "ProgressStyleModel",
          "state": {
            "_model_module": "@jupyter-widgets/controls",
            "_model_module_version": "1.5.0",
            "_model_name": "ProgressStyleModel",
            "_view_count": null,
            "_view_module": "@jupyter-widgets/base",
            "_view_module_version": "1.2.0",
            "_view_name": "StyleView",
            "bar_color": null,
            "description_width": ""
          }
        },
        "5fc19be399d541ad804ea3fb7d9cf894": {
          "model_module": "@jupyter-widgets/base",
          "model_module_version": "1.2.0",
          "model_name": "LayoutModel",
          "state": {
            "_model_module": "@jupyter-widgets/base",
            "_model_module_version": "1.2.0",
            "_model_name": "LayoutModel",
            "_view_count": null,
            "_view_module": "@jupyter-widgets/base",
            "_view_module_version": "1.2.0",
            "_view_name": "LayoutView",
            "align_content": null,
            "align_items": null,
            "align_self": null,
            "border": null,
            "bottom": null,
            "display": null,
            "flex": null,
            "flex_flow": null,
            "grid_area": null,
            "grid_auto_columns": null,
            "grid_auto_flow": null,
            "grid_auto_rows": null,
            "grid_column": null,
            "grid_gap": null,
            "grid_row": null,
            "grid_template_areas": null,
            "grid_template_columns": null,
            "grid_template_rows": null,
            "height": null,
            "justify_content": null,
            "justify_items": null,
            "left": null,
            "margin": null,
            "max_height": null,
            "max_width": null,
            "min_height": null,
            "min_width": null,
            "object_fit": null,
            "object_position": null,
            "order": null,
            "overflow": null,
            "overflow_x": null,
            "overflow_y": null,
            "padding": null,
            "right": null,
            "top": null,
            "visibility": null,
            "width": null
          }
        },
        "677e169e0adc482da8e7845f327f3b54": {
          "model_module": "@jupyter-widgets/controls",
          "model_module_version": "1.5.0",
          "model_name": "HTMLModel",
          "state": {
            "_dom_classes": [],
            "_model_module": "@jupyter-widgets/controls",
            "_model_module_version": "1.5.0",
            "_model_name": "HTMLModel",
            "_view_count": null,
            "_view_module": "@jupyter-widgets/controls",
            "_view_module_version": "1.5.0",
            "_view_name": "HTMLView",
            "description": "",
            "description_tooltip": null,
            "layout": "IPY_MODEL_a628192b2af640e3a43694122eb28d9c",
            "placeholder": "​",
            "style": "IPY_MODEL_0e1510b7caf14752bbed3c827e90f57e",
            "value": " 2448/2448 [00:00&lt;00:00, 3342.18 examples/s]"
          }
        },
        "701b3dc3a165477f873e84d07e25c58b": {
          "model_module": "@jupyter-widgets/base",
          "model_module_version": "1.2.0",
          "model_name": "LayoutModel",
          "state": {
            "_model_module": "@jupyter-widgets/base",
            "_model_module_version": "1.2.0",
            "_model_name": "LayoutModel",
            "_view_count": null,
            "_view_module": "@jupyter-widgets/base",
            "_view_module_version": "1.2.0",
            "_view_name": "LayoutView",
            "align_content": null,
            "align_items": null,
            "align_self": null,
            "border": null,
            "bottom": null,
            "display": null,
            "flex": null,
            "flex_flow": null,
            "grid_area": null,
            "grid_auto_columns": null,
            "grid_auto_flow": null,
            "grid_auto_rows": null,
            "grid_column": null,
            "grid_gap": null,
            "grid_row": null,
            "grid_template_areas": null,
            "grid_template_columns": null,
            "grid_template_rows": null,
            "height": null,
            "justify_content": null,
            "justify_items": null,
            "left": null,
            "margin": null,
            "max_height": null,
            "max_width": null,
            "min_height": null,
            "min_width": null,
            "object_fit": null,
            "object_position": null,
            "order": null,
            "overflow": null,
            "overflow_x": null,
            "overflow_y": null,
            "padding": null,
            "right": null,
            "top": null,
            "visibility": null,
            "width": null
          }
        },
        "77d219b60c7a4f2089f4172d3a3ab8f7": {
          "model_module": "@jupyter-widgets/controls",
          "model_module_version": "1.5.0",
          "model_name": "HBoxModel",
          "state": {
            "_dom_classes": [],
            "_model_module": "@jupyter-widgets/controls",
            "_model_module_version": "1.5.0",
            "_model_name": "HBoxModel",
            "_view_count": null,
            "_view_module": "@jupyter-widgets/controls",
            "_view_module_version": "1.5.0",
            "_view_name": "HBoxView",
            "box_style": "",
            "children": [
              "IPY_MODEL_b0d7258631904297a9a69eec62b4fdfe",
              "IPY_MODEL_451b6e3f0c3b451fb6e64cf344756885",
              "IPY_MODEL_677e169e0adc482da8e7845f327f3b54"
            ],
            "layout": "IPY_MODEL_b666c2142ba5451fa5b961ef067b6280"
          }
        },
        "8517c84113ea44f2ac93b0d64bbcd238": {
          "model_module": "@jupyter-widgets/controls",
          "model_module_version": "1.5.0",
          "model_name": "HTMLModel",
          "state": {
            "_dom_classes": [],
            "_model_module": "@jupyter-widgets/controls",
            "_model_module_version": "1.5.0",
            "_model_name": "HTMLModel",
            "_view_count": null,
            "_view_module": "@jupyter-widgets/controls",
            "_view_module_version": "1.5.0",
            "_view_name": "HTMLView",
            "description": "",
            "description_tooltip": null,
            "layout": "IPY_MODEL_4adb9ee0f7ed4c908742970063ffdcfa",
            "placeholder": "​",
            "style": "IPY_MODEL_47883bb474ec49f897c40f585b38fc21",
            "value": " 2448/2448 [00:00&lt;00:00, 15131.95 examples/s]"
          }
        },
        "a628192b2af640e3a43694122eb28d9c": {
          "model_module": "@jupyter-widgets/base",
          "model_module_version": "1.2.0",
          "model_name": "LayoutModel",
          "state": {
            "_model_module": "@jupyter-widgets/base",
            "_model_module_version": "1.2.0",
            "_model_name": "LayoutModel",
            "_view_count": null,
            "_view_module": "@jupyter-widgets/base",
            "_view_module_version": "1.2.0",
            "_view_name": "LayoutView",
            "align_content": null,
            "align_items": null,
            "align_self": null,
            "border": null,
            "bottom": null,
            "display": null,
            "flex": null,
            "flex_flow": null,
            "grid_area": null,
            "grid_auto_columns": null,
            "grid_auto_flow": null,
            "grid_auto_rows": null,
            "grid_column": null,
            "grid_gap": null,
            "grid_row": null,
            "grid_template_areas": null,
            "grid_template_columns": null,
            "grid_template_rows": null,
            "height": null,
            "justify_content": null,
            "justify_items": null,
            "left": null,
            "margin": null,
            "max_height": null,
            "max_width": null,
            "min_height": null,
            "min_width": null,
            "object_fit": null,
            "object_position": null,
            "order": null,
            "overflow": null,
            "overflow_x": null,
            "overflow_y": null,
            "padding": null,
            "right": null,
            "top": null,
            "visibility": null,
            "width": null
          }
        },
        "b0d7258631904297a9a69eec62b4fdfe": {
          "model_module": "@jupyter-widgets/controls",
          "model_module_version": "1.5.0",
          "model_name": "HTMLModel",
          "state": {
            "_dom_classes": [],
            "_model_module": "@jupyter-widgets/controls",
            "_model_module_version": "1.5.0",
            "_model_name": "HTMLModel",
            "_view_count": null,
            "_view_module": "@jupyter-widgets/controls",
            "_view_module_version": "1.5.0",
            "_view_name": "HTMLView",
            "description": "",
            "description_tooltip": null,
            "layout": "IPY_MODEL_701b3dc3a165477f873e84d07e25c58b",
            "placeholder": "​",
            "style": "IPY_MODEL_03b273060d26414cadc1338fd79d9cd5",
            "value": "Map: 100%"
          }
        },
        "b666c2142ba5451fa5b961ef067b6280": {
          "model_module": "@jupyter-widgets/base",
          "model_module_version": "1.2.0",
          "model_name": "LayoutModel",
          "state": {
            "_model_module": "@jupyter-widgets/base",
            "_model_module_version": "1.2.0",
            "_model_name": "LayoutModel",
            "_view_count": null,
            "_view_module": "@jupyter-widgets/base",
            "_view_module_version": "1.2.0",
            "_view_name": "LayoutView",
            "align_content": null,
            "align_items": null,
            "align_self": null,
            "border": null,
            "bottom": null,
            "display": null,
            "flex": null,
            "flex_flow": null,
            "grid_area": null,
            "grid_auto_columns": null,
            "grid_auto_flow": null,
            "grid_auto_rows": null,
            "grid_column": null,
            "grid_gap": null,
            "grid_row": null,
            "grid_template_areas": null,
            "grid_template_columns": null,
            "grid_template_rows": null,
            "height": null,
            "justify_content": null,
            "justify_items": null,
            "left": null,
            "margin": null,
            "max_height": null,
            "max_width": null,
            "min_height": null,
            "min_width": null,
            "object_fit": null,
            "object_position": null,
            "order": null,
            "overflow": null,
            "overflow_x": null,
            "overflow_y": null,
            "padding": null,
            "right": null,
            "top": null,
            "visibility": null,
            "width": null
          }
        },
        "df3282dd7cda4550ae63c72817b6ec53": {
          "model_module": "@jupyter-widgets/controls",
          "model_module_version": "1.5.0",
          "model_name": "HTMLModel",
          "state": {
            "_dom_classes": [],
            "_model_module": "@jupyter-widgets/controls",
            "_model_module_version": "1.5.0",
            "_model_name": "HTMLModel",
            "_view_count": null,
            "_view_module": "@jupyter-widgets/controls",
            "_view_module_version": "1.5.0",
            "_view_name": "HTMLView",
            "description": "",
            "description_tooltip": null,
            "layout": "IPY_MODEL_2941c90434ef403eb8af1a82395bd613",
            "placeholder": "​",
            "style": "IPY_MODEL_070f459916a24a7a8c51975a6c8bcc4a",
            "value": "Flattening the indices: 100%"
          }
        },
        "e19296377084408a8b05ab0b748354f7": {
          "model_module": "@jupyter-widgets/controls",
          "model_module_version": "1.5.0",
          "model_name": "FloatProgressModel",
          "state": {
            "_dom_classes": [],
            "_model_module": "@jupyter-widgets/controls",
            "_model_module_version": "1.5.0",
            "_model_name": "FloatProgressModel",
            "_view_count": null,
            "_view_module": "@jupyter-widgets/controls",
            "_view_module_version": "1.5.0",
            "_view_name": "ProgressView",
            "bar_style": "success",
            "description": "",
            "description_tooltip": null,
            "layout": "IPY_MODEL_29c33c9a90cf4011b29f181dde378d08",
            "max": 2448,
            "min": 0,
            "orientation": "horizontal",
            "style": "IPY_MODEL_5a97b9db41b14ecea3854ea3038ad5d8",
            "value": 2448
          }
        }
      }
    }
  },
  "nbformat": 4,
  "nbformat_minor": 0
}
